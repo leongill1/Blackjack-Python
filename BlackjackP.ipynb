{
 "cells": [
  {
   "cell_type": "markdown",
   "metadata": {},
   "source": [
    "* Indexing method for making dictionary keys - DONE\n",
    "* each position is an object with index but also list showing cRDS - DONE\n",
    "* CAN PASS CARDS TO MC SO NO NEED TO BACK CONVERT. JUST USED AS A KEY. LIST IS USED FOR SCORING AND MC - DONE\n",
    "* Create full list of positions - DONE\n",
    "* Function to convert index keys to simulation inputs - DONE\n",
    "* MC simulation\n",
    "* Exact analytical solution\n",
    "* Algo for using simulation to solve for strategy\n",
    "* Compare analytical and numerical solution\n",
    "* For playing games, the int indexes may just work. Just for strategy making they wont as those impossible hands are tehcnically possible. \n"
   ]
  },
  {
   "cell_type": "code",
   "execution_count": 1,
   "metadata": {},
   "outputs": [],
   "source": [
    "#Example index\n",
    "17000000001001\n",
    "#Example_hand\n",
    "[7,0,0,0,0,0,0,0,0,10,1]\n",
    "import random as rn\n",
    "import numpy as np\n",
    "import pandas as pd"
   ]
  },
  {
   "cell_type": "code",
   "execution_count": 2,
   "metadata": {},
   "outputs": [],
   "source": [
    "def cardsToIndex(player_hand, dealer_card, draw = None):\n",
    "    index_scaling = [10**11, 10**10, 10**9, 10**8, 10**7, 10**6, 10**5, 10**4, 10**2, 10**0]\n",
    "    index = 10000000000000 + dealer_card*10**12\n",
    "    if draw != None:\n",
    "        player_hand[10 - draw] += 1\n",
    "    for card in range(10):\n",
    "        index += index_scaling[card] * player_hand[card]\n",
    "    return index"
   ]
  },
  {
   "cell_type": "code",
   "execution_count": 3,
   "metadata": {},
   "outputs": [],
   "source": [
    "def indexToCards(index):#TODO\n",
    "    index = list(str(index)[1:])\n",
    "    dealer_hand = [0, 0, 0, 0, 0, 0, 0, 0, 0, 0]\n",
    "    dealer_hand[9 - int(index[0])] += 1\n",
    "    index = index[1:]\n",
    "    return [int(x) for x in index[0:-4] + [index[-4] + index[-3]] + [index[-2] + index[-1]]], dealer_hand"
   ]
  },
  {
   "cell_type": "code",
   "execution_count": 4,
   "metadata": {},
   "outputs": [],
   "source": [
    "def score(player_cards):\n",
    "    score = player_cards[-1] * 11\n",
    "    high_aces = player_cards[-1]\n",
    "    for cardIndex in range(9):\n",
    "        score += (10 - cardIndex) * player_cards[cardIndex]\n",
    "    #Determine whether to use aces as 1 or 11\n",
    "    while score > 21 and high_aces > 0:\n",
    "        if high_aces > 0:\n",
    "            score -= 10\n",
    "            high_aces -= 1\n",
    "    return score "
   ]
  },
  {
   "cell_type": "code",
   "execution_count": 5,
   "metadata": {},
   "outputs": [],
   "source": [
    "class Position:\n",
    "    def __init__(self, index = None, cards = None, dealer_card = None, draw = None, decks = 1):\n",
    "        if index != None:\n",
    "            self.index = index\n",
    "            self.player_hand, self.dealer_hand = indexToCards(self.index)\n",
    "        if index == None:\n",
    "            self.player_hand = cards\n",
    "            self.dealer_hand = [0, 0, 0, 0, 0, 0, 0, 0, 0, 0]\n",
    "            self.dealer_hand[10 - dealer_card] += 1\n",
    "            self.index = cardsToIndex(self.player_hand, dealer_card, draw)\n",
    "\n",
    "        self.dealer_face = dealer_card\n",
    "        self.score = score(self.player_hand)\n",
    "        self.bust = True if self.score > 21 else False\n",
    "        self.decks = decks\n",
    "\n",
    "        self.cards_in_play = [x + y for x, y in zip(self.player_hand, self.dealer_hand)]\n",
    "\n",
    "        self.valid = True if all(x < 4*self.decks + 1  for x in self.cards_in_play[1:]) and self.cards_in_play[0] < 16*self.decks + 1 else False\n",
    "\n",
    "    def add_stick_probability(self, stick_probability):\n",
    "        self.stick_probability = stick_probability"
   ]
  },
  {
   "cell_type": "code",
   "execution_count": 6,
   "metadata": {},
   "outputs": [],
   "source": [
    "def getPositions(decks = 1):\n",
    "    Next = {10000000000000 : Position(index = 10000000000000, dealer_card = 1)}\n",
    "    Master = {}\n",
    "    runs = 0\n",
    "    while len(Next) != 0:\n",
    "        Current = Next\n",
    "        Next = {}\n",
    "        for position in Current.values():\n",
    "            for drawn in range(1, 11):\n",
    "                gate = True\n",
    "                for dealer_card in range(1, 11):\n",
    "                    temp = position.player_hand.copy()\n",
    "                    current_position = Position(cards = temp, draw = drawn, dealer_card = dealer_card, decks = decks)\n",
    "                    if not current_position.bust and current_position.valid:\n",
    "                        if gate:\n",
    "                            Next[current_position.index] = current_position\n",
    "                            gate = False\n",
    "                        if runs > 0:\n",
    "                            Master[current_position.index] = current_position\n",
    "        runs += 1\n",
    "    return Master"
   ]
  },
  {
   "cell_type": "code",
   "execution_count": 7,
   "metadata": {},
   "outputs": [],
   "source": [
    "Master = getPositions()"
   ]
  },
  {
   "cell_type": "markdown",
   "metadata": {},
   "source": [
    "#### mc"
   ]
  },
  {
   "cell_type": "markdown",
   "metadata": {},
   "source": [
    "# interesting\n",
    "Yo umay be able to start simulating games for stick probs but just do all dealer possibilities, then you don't need to od te win check each time"
   ]
  },
  {
   "cell_type": "code",
   "execution_count": 8,
   "metadata": {},
   "outputs": [],
   "source": [
    "def simulateGames(position, number_games = 1000):\n",
    "    player_wins, dealer_wins, ties = 0, 0, 0\n",
    "    dealer_card = position.dealer_face\n",
    "    player_score = position.score\n",
    "    #new\n",
    "    draw_weights = np.array([x - y for x, y in zip([card*position.decks for card in [16, 4, 4, 4, 4, 4, 4, 4, 4, 4]], position.cards_in_play)])\n",
    "    base_weights = []\n",
    "    for i in range(10):\n",
    "        base_weights += [10 - i]*draw_weights[i]\n",
    "\n",
    "    base_dealer_hand = [0, 0, 0, 0, 0, 0, 0, 0, 0, 0]\n",
    "    base_dealer_hand[10 - dealer_card] += 1\n",
    "#---------------------------------------------------------------------\n",
    "    while number_games > 0:\n",
    "        temp_weights = base_weights.copy()\n",
    "        dealer_hand = base_dealer_hand.copy()\n",
    "        dealer_score = 0\n",
    "        while dealer_score < 17:\n",
    "            #card = np.random.choice([10, 9, 8, 7, 6, 5, 4, 3, 2, 1], 1, p=temp_weights/sum(temp_weights))[0]\n",
    "            card = temp_weights.pop(rn.randint(0, len(temp_weights) - 1))\n",
    "            dealer_hand[10 - card] += 1\n",
    "            temp_weights[10 - card] -= 1\n",
    "            dealer_score = score(dealer_hand)\n",
    "#---------------------------------------------------------------------\n",
    "        if player_score < 22:\n",
    "            if player_score > dealer_score:\n",
    "                player_wins += 1\n",
    "            if player_score < dealer_score and dealer_score < 22:\n",
    "                dealer_wins +=1\n",
    "            if dealer_score > 21:\n",
    "                player_wins +=1\n",
    "            if player_score == dealer_score:\n",
    "                ties += 1\n",
    "        if player_score > 21:\n",
    "            dealer_wins += 1\n",
    "\n",
    "        number_games -= 1 \n",
    "    return (player_wins - dealer_wins)/(player_wins + dealer_wins + ties)"
   ]
  },
  {
   "cell_type": "code",
   "execution_count": 9,
   "metadata": {},
   "outputs": [
    {
     "data": {
      "text/plain": [
       "-0.776616"
      ]
     },
     "execution_count": 9,
     "metadata": {},
     "output_type": "execute_result"
    }
   ],
   "source": [
    "simulateGames(position = Master[11000000000002], number_games = 250000)"
   ]
  },
  {
   "cell_type": "code",
   "execution_count": 19,
   "metadata": {},
   "outputs": [],
   "source": [
    "for position in Master.values():\n",
    "    position.add_stick_probability(simulateGames(position = position, number_games = 1000))"
   ]
  },
  {
   "cell_type": "code",
   "execution_count": 20,
   "metadata": {},
   "outputs": [
    {
     "data": {
      "text/plain": [
       "{'player_hand': [0, 0, 0, 0, 0, 0, 0, 0, 0, 2],\n",
       " 'dealer_hand': [0, 0, 0, 0, 0, 0, 0, 0, 0, 1],\n",
       " 'index': 11000000000002,\n",
       " 'dealer_face': 1,\n",
       " 'score': 12,\n",
       " 'bust': False,\n",
       " 'decks': 1,\n",
       " 'cards_in_play': [0, 0, 0, 0, 0, 0, 0, 0, 0, 3],\n",
       " 'valid': True,\n",
       " 'stick_probability': -0.768}"
      ]
     },
     "execution_count": 20,
     "metadata": {},
     "output_type": "execute_result"
    }
   ],
   "source": [
    "vars(Master[11000000000002])"
   ]
  },
  {
   "cell_type": "code",
   "execution_count": 28,
   "metadata": {},
   "outputs": [
    {
     "data": {
      "text/plain": [
       "-0.7798"
      ]
     },
     "execution_count": 28,
     "metadata": {},
     "output_type": "execute_result"
    }
   ],
   "source": [
    "simulateGames(position = Master[11000000000002], number_games = 250000)"
   ]
  },
  {
   "cell_type": "code",
   "execution_count": 47,
   "metadata": {},
   "outputs": [],
   "source": [
    "import asyncio\n",
    "\n",
    "async def main():\n",
    "    async def one_iteration():\n",
    "        \n",
    "    coros = [one_iteration() for _ in range(2)]\n",
    "    await asyncio.gather(*coros)"
   ]
  },
  {
   "cell_type": "code",
   "execution_count": 52,
   "metadata": {},
   "outputs": [
    {
     "ename": "TypeError",
     "evalue": "An asyncio.Future, a coroutine or an awaitable is required",
     "output_type": "error",
     "traceback": [
      "\u001b[1;31m---------------------------------------------------------------------------\u001b[0m",
      "\u001b[1;31mTypeError\u001b[0m                                 Traceback (most recent call last)",
      "Cell \u001b[1;32mIn[52], line 1\u001b[0m\n\u001b[1;32m----> 1\u001b[0m results \u001b[38;5;241m=\u001b[39m \u001b[38;5;28;01mawait\u001b[39;00m \u001b[43masyncio\u001b[49m\u001b[38;5;241;43m.\u001b[39;49m\u001b[43mgather\u001b[49m\u001b[43m(\u001b[49m\u001b[43msimulateGames\u001b[49m\u001b[43m(\u001b[49m\u001b[43mposition\u001b[49m\u001b[43m \u001b[49m\u001b[38;5;241;43m=\u001b[39;49m\u001b[43m \u001b[49m\u001b[43mMaster\u001b[49m\u001b[43m[\u001b[49m\u001b[38;5;241;43m11000000000002\u001b[39;49m\u001b[43m]\u001b[49m\u001b[43m,\u001b[49m\u001b[43m \u001b[49m\u001b[43mnumber_games\u001b[49m\u001b[43m \u001b[49m\u001b[38;5;241;43m=\u001b[39;49m\u001b[43m \u001b[49m\u001b[38;5;241;43m250000\u001b[39;49m\u001b[43m)\u001b[49m\u001b[43m,\u001b[49m\u001b[43m \u001b[49m\u001b[43msimulateGames\u001b[49m\u001b[43m(\u001b[49m\u001b[43mposition\u001b[49m\u001b[43m \u001b[49m\u001b[38;5;241;43m=\u001b[39;49m\u001b[43m \u001b[49m\u001b[43mMaster\u001b[49m\u001b[43m[\u001b[49m\u001b[38;5;241;43m11000000000002\u001b[39;49m\u001b[43m]\u001b[49m\u001b[43m,\u001b[49m\u001b[43m \u001b[49m\u001b[43mnumber_games\u001b[49m\u001b[43m \u001b[49m\u001b[38;5;241;43m=\u001b[39;49m\u001b[43m \u001b[49m\u001b[38;5;241;43m250000\u001b[39;49m\u001b[43m)\u001b[49m\u001b[43m)\u001b[49m\n",
      "File \u001b[1;32mc:\\Users\\e1734\\AppData\\Local\\Programs\\Python\\Python312\\Lib\\asyncio\\tasks.py:831\u001b[0m, in \u001b[0;36mgather\u001b[1;34m(return_exceptions, *coros_or_futures)\u001b[0m\n\u001b[0;32m    829\u001b[0m \u001b[38;5;28;01mfor\u001b[39;00m arg \u001b[38;5;129;01min\u001b[39;00m coros_or_futures:\n\u001b[0;32m    830\u001b[0m     \u001b[38;5;28;01mif\u001b[39;00m arg \u001b[38;5;129;01mnot\u001b[39;00m \u001b[38;5;129;01min\u001b[39;00m arg_to_fut:\n\u001b[1;32m--> 831\u001b[0m         fut \u001b[38;5;241m=\u001b[39m \u001b[43mensure_future\u001b[49m\u001b[43m(\u001b[49m\u001b[43marg\u001b[49m\u001b[43m,\u001b[49m\u001b[43m \u001b[49m\u001b[43mloop\u001b[49m\u001b[38;5;241;43m=\u001b[39;49m\u001b[43mloop\u001b[49m\u001b[43m)\u001b[49m\n\u001b[0;32m    832\u001b[0m         \u001b[38;5;28;01mif\u001b[39;00m loop \u001b[38;5;129;01mis\u001b[39;00m \u001b[38;5;28;01mNone\u001b[39;00m:\n\u001b[0;32m    833\u001b[0m             loop \u001b[38;5;241m=\u001b[39m futures\u001b[38;5;241m.\u001b[39m_get_loop(fut)\n",
      "File \u001b[1;32mc:\\Users\\e1734\\AppData\\Local\\Programs\\Python\\Python312\\Lib\\asyncio\\tasks.py:689\u001b[0m, in \u001b[0;36mensure_future\u001b[1;34m(coro_or_future, loop)\u001b[0m\n\u001b[0;32m    687\u001b[0m         should_close \u001b[38;5;241m=\u001b[39m \u001b[38;5;28;01mFalse\u001b[39;00m\n\u001b[0;32m    688\u001b[0m     \u001b[38;5;28;01melse\u001b[39;00m:\n\u001b[1;32m--> 689\u001b[0m         \u001b[38;5;28;01mraise\u001b[39;00m \u001b[38;5;167;01mTypeError\u001b[39;00m(\u001b[38;5;124m'\u001b[39m\u001b[38;5;124mAn asyncio.Future, a coroutine or an awaitable \u001b[39m\u001b[38;5;124m'\u001b[39m\n\u001b[0;32m    690\u001b[0m                         \u001b[38;5;124m'\u001b[39m\u001b[38;5;124mis required\u001b[39m\u001b[38;5;124m'\u001b[39m)\n\u001b[0;32m    692\u001b[0m \u001b[38;5;28;01mif\u001b[39;00m loop \u001b[38;5;129;01mis\u001b[39;00m \u001b[38;5;28;01mNone\u001b[39;00m:\n\u001b[0;32m    693\u001b[0m     loop \u001b[38;5;241m=\u001b[39m events\u001b[38;5;241m.\u001b[39mget_event_loop()\n",
      "\u001b[1;31mTypeError\u001b[0m: An asyncio.Future, a coroutine or an awaitable is required"
     ]
    }
   ],
   "source": [
    "results = await asyncio.gather(simulateGames(position = Master[11000000000002], number_games = 250000), )"
   ]
  },
  {
   "cell_type": "code",
   "execution_count": 54,
   "metadata": {},
   "outputs": [
    {
     "ename": "RuntimeError",
     "evalue": "This event loop is already running",
     "output_type": "error",
     "traceback": [
      "\u001b[1;31m---------------------------------------------------------------------------\u001b[0m",
      "\u001b[1;31mRuntimeError\u001b[0m                              Traceback (most recent call last)",
      "Cell \u001b[1;32mIn[54], line 6\u001b[0m\n\u001b[0;32m      4\u001b[0m \u001b[38;5;28;01mif\u001b[39;00m \u001b[38;5;18m__name__\u001b[39m \u001b[38;5;241m==\u001b[39m \u001b[38;5;124m'\u001b[39m\u001b[38;5;124m__main__\u001b[39m\u001b[38;5;124m'\u001b[39m:\n\u001b[0;32m      5\u001b[0m     loop\u001b[38;5;241m=\u001b[39masyncio\u001b[38;5;241m.\u001b[39mget_event_loop()\n\u001b[1;32m----> 6\u001b[0m     \u001b[43mloop\u001b[49m\u001b[38;5;241;43m.\u001b[39;49m\u001b[43mrun_until_complete\u001b[49m\u001b[43m(\u001b[49m\u001b[43mrequest\u001b[49m\u001b[43m(\u001b[49m\u001b[43m)\u001b[49m\u001b[43m)\u001b[49m\n",
      "File \u001b[1;32mc:\\Users\\e1734\\AppData\\Local\\Programs\\Python\\Python312\\Lib\\asyncio\\base_events.py:661\u001b[0m, in \u001b[0;36mBaseEventLoop.run_until_complete\u001b[1;34m(self, future)\u001b[0m\n\u001b[0;32m    650\u001b[0m \u001b[38;5;250m\u001b[39m\u001b[38;5;124;03m\"\"\"Run until the Future is done.\u001b[39;00m\n\u001b[0;32m    651\u001b[0m \n\u001b[0;32m    652\u001b[0m \u001b[38;5;124;03mIf the argument is a coroutine, it is wrapped in a Task.\u001b[39;00m\n\u001b[1;32m   (...)\u001b[0m\n\u001b[0;32m    658\u001b[0m \u001b[38;5;124;03mReturn the Future's result, or raise its exception.\u001b[39;00m\n\u001b[0;32m    659\u001b[0m \u001b[38;5;124;03m\"\"\"\u001b[39;00m\n\u001b[0;32m    660\u001b[0m \u001b[38;5;28mself\u001b[39m\u001b[38;5;241m.\u001b[39m_check_closed()\n\u001b[1;32m--> 661\u001b[0m \u001b[38;5;28;43mself\u001b[39;49m\u001b[38;5;241;43m.\u001b[39;49m\u001b[43m_check_running\u001b[49m\u001b[43m(\u001b[49m\u001b[43m)\u001b[49m\n\u001b[0;32m    663\u001b[0m new_task \u001b[38;5;241m=\u001b[39m \u001b[38;5;129;01mnot\u001b[39;00m futures\u001b[38;5;241m.\u001b[39misfuture(future)\n\u001b[0;32m    664\u001b[0m future \u001b[38;5;241m=\u001b[39m tasks\u001b[38;5;241m.\u001b[39mensure_future(future, loop\u001b[38;5;241m=\u001b[39m\u001b[38;5;28mself\u001b[39m)\n",
      "File \u001b[1;32mc:\\Users\\e1734\\AppData\\Local\\Programs\\Python\\Python312\\Lib\\asyncio\\base_events.py:620\u001b[0m, in \u001b[0;36mBaseEventLoop._check_running\u001b[1;34m(self)\u001b[0m\n\u001b[0;32m    618\u001b[0m \u001b[38;5;28;01mdef\u001b[39;00m \u001b[38;5;21m_check_running\u001b[39m(\u001b[38;5;28mself\u001b[39m):\n\u001b[0;32m    619\u001b[0m     \u001b[38;5;28;01mif\u001b[39;00m \u001b[38;5;28mself\u001b[39m\u001b[38;5;241m.\u001b[39mis_running():\n\u001b[1;32m--> 620\u001b[0m         \u001b[38;5;28;01mraise\u001b[39;00m \u001b[38;5;167;01mRuntimeError\u001b[39;00m(\u001b[38;5;124m'\u001b[39m\u001b[38;5;124mThis event loop is already running\u001b[39m\u001b[38;5;124m'\u001b[39m)\n\u001b[0;32m    621\u001b[0m     \u001b[38;5;28;01mif\u001b[39;00m events\u001b[38;5;241m.\u001b[39m_get_running_loop() \u001b[38;5;129;01mis\u001b[39;00m \u001b[38;5;129;01mnot\u001b[39;00m \u001b[38;5;28;01mNone\u001b[39;00m:\n\u001b[0;32m    622\u001b[0m         \u001b[38;5;28;01mraise\u001b[39;00m \u001b[38;5;167;01mRuntimeError\u001b[39;00m(\n\u001b[0;32m    623\u001b[0m             \u001b[38;5;124m'\u001b[39m\u001b[38;5;124mCannot run the event loop while another loop is running\u001b[39m\u001b[38;5;124m'\u001b[39m)\n",
      "\u001b[1;31mRuntimeError\u001b[0m: This event loop is already running"
     ]
    }
   ],
   "source": [
    "async def request():\n",
    "    return simulateGames(position = Master[11000000000002], number_games = 250000)\n",
    "\n",
    "if __name__ == '__main__':\n",
    "    loop=asyncio.get_event_loop()\n",
    "    loop.run_until_complete(request())"
   ]
  }
 ],
 "metadata": {
  "kernelspec": {
   "display_name": "Python 3",
   "language": "python",
   "name": "python3"
  },
  "language_info": {
   "codemirror_mode": {
    "name": "ipython",
    "version": 3
   },
   "file_extension": ".py",
   "mimetype": "text/x-python",
   "name": "python",
   "nbconvert_exporter": "python",
   "pygments_lexer": "ipython3",
   "version": "3.12.2"
  }
 },
 "nbformat": 4,
 "nbformat_minor": 2
}
