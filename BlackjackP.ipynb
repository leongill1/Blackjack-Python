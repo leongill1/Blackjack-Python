{
 "cells": [
  {
   "cell_type": "markdown",
   "metadata": {},
   "source": [
    "* Indexing method for making dictionary keys - DONE\n",
    "* each position is an object with index but also list showing cRDS - DONE\n",
    "* CAN PASS CARDS TO MC SO NO NEED TO BACK CONVERT. JUST USED AS A KEY. LIST IS USED FOR SCORING AND MC - DONE\n",
    "* Create full list of positions - DONE\n",
    "* Function to convert index keys to simulation inputs - DONE\n",
    "* MC simulation - DONE\n",
    "* Exact analytical solution\n",
    "* Algo for using simulation to solve for strategy\n",
    "* Compare analytical and numerical solution\n",
    "* For playing games, the int indexes may just work. Just for strategy making they wont as those impossible hands are tehcnically possible. \n"
   ]
  },
  {
   "cell_type": "code",
   "execution_count": 49,
   "metadata": {},
   "outputs": [],
   "source": [
    "import random as rn\n",
    "import numpy as np\n",
    "import pandas as pd\n",
    "import math\n",
    "#Example index: 17000000001001\n",
    "#Example_hand: [7,0,0,0,0,0,0,0,0,10,1]"
   ]
  },
  {
   "cell_type": "code",
   "execution_count": 50,
   "metadata": {},
   "outputs": [],
   "source": [
    "def cardsToIndex(player_hand, dealer_card, draw = None):\n",
    "    index_scaling = [10**11, 10**10, 10**9, 10**8, 10**7, 10**6, 10**5, 10**4, 10**2, 10**0]\n",
    "    index = 10000000000000 + dealer_card*10**12\n",
    "    if draw != None:\n",
    "        player_hand[10 - draw] += 1\n",
    "    for card in range(10):\n",
    "        index += index_scaling[card] * player_hand[card]\n",
    "    return index"
   ]
  },
  {
   "cell_type": "code",
   "execution_count": 51,
   "metadata": {},
   "outputs": [],
   "source": [
    "def indexToCards(index):#TODO\n",
    "    index = list(str(index)[1:])\n",
    "    dealer_hand = [0, 0, 0, 0, 0, 0, 0, 0, 0, 0]\n",
    "    dealer_hand[9 - int(index[0])] += 1\n",
    "    index = index[1:]\n",
    "    return [int(x) for x in index[0:-4] + [index[-4] + index[-3]] + [index[-2] + index[-1]]], dealer_hand"
   ]
  },
  {
   "cell_type": "code",
   "execution_count": 52,
   "metadata": {},
   "outputs": [],
   "source": [
    "def score(player_cards):\n",
    "    score = player_cards[-1] * 11\n",
    "    high_aces = player_cards[-1]\n",
    "    for cardIndex in range(9):\n",
    "        score += (10 - cardIndex) * player_cards[cardIndex]\n",
    "    #Determine whether to use aces as 1 or 11\n",
    "    while score > 21 and high_aces > 0:\n",
    "        if high_aces > 0:\n",
    "            score -= 10\n",
    "            high_aces -= 1\n",
    "    return score "
   ]
  },
  {
   "cell_type": "code",
   "execution_count": 53,
   "metadata": {},
   "outputs": [],
   "source": [
    "def simulateGames(position, number_games = 1000):#TODO\n",
    "    player_wins, dealer_wins, ties = 0, 0, 0\n",
    "    dealer_card = position.dealer_face\n",
    "    player_score = position.score\n",
    "    draw_weights = np.array([x - y for x, y in zip([card*position.decks for card in [16, 4, 4, 4, 4, 4, 4, 4, 4, 4]], position.cards_in_play)])\n",
    "    base_weights = []\n",
    "    for i in range(10):\n",
    "        base_weights += [10 - i]*draw_weights[i]\n",
    "\n",
    "    base_dealer_hand = [0, 0, 0, 0, 0, 0, 0, 0, 0, 0]\n",
    "    base_dealer_hand[10 - dealer_card] += 1\n",
    "\n",
    "    while number_games > 0:\n",
    "        temp_weights = base_weights.copy()\n",
    "        dealer_hand = base_dealer_hand.copy()\n",
    "        dealer_score = 0\n",
    "        while dealer_score < 17:\n",
    "            card = temp_weights.pop(rn.randint(0, len(temp_weights) - 1))\n",
    "            dealer_hand[10 - card] += 1\n",
    "            temp_weights[10 - card] -= 1\n",
    "            dealer_score = score(dealer_hand)\n",
    "        if player_score < 22:\n",
    "            if player_score > dealer_score:\n",
    "                player_wins += 1\n",
    "            if player_score < dealer_score and dealer_score < 22:\n",
    "                dealer_wins +=1\n",
    "            if dealer_score > 21:\n",
    "                player_wins +=1\n",
    "            if player_score == dealer_score:\n",
    "                ties += 1\n",
    "        if player_score > 21:\n",
    "            dealer_wins += 1\n",
    "\n",
    "        number_games -= 1 \n",
    "    return (player_wins - dealer_wins)/(player_wins + dealer_wins + ties)"
   ]
  },
  {
   "cell_type": "code",
   "execution_count": 54,
   "metadata": {},
   "outputs": [],
   "source": [
    "def deckContents(position):\n",
    "    return np.array([x - y for x, y in zip([card*position.decks for card in [16, 4, 4, 4, 4, 4, 4, 4, 4, 4]], position.cards_in_play)])"
   ]
  },
  {
   "cell_type": "code",
   "execution_count": 55,
   "metadata": {},
   "outputs": [],
   "source": [
    "class Position:\n",
    "    def __init__(self, index = None, cards = None, dealer_card = None, draw = None, decks = 1):\n",
    "        if index != None:\n",
    "            self.index = index\n",
    "            self.player_hand, self.dealer_hand = indexToCards(self.index)\n",
    "        if index == None:\n",
    "            self.player_hand = cards\n",
    "            self.dealer_hand = [0, 0, 0, 0, 0, 0, 0, 0, 0, 0]\n",
    "            self.dealer_hand[10 - dealer_card] += 1\n",
    "            self.index = cardsToIndex(self.player_hand, dealer_card, draw)\n",
    "        self.hand_size = len(self.player_hand)\n",
    "        self.dealer_face = dealer_card\n",
    "        self.score = score(self.player_hand)\n",
    "        self.bust = True if self.score > 21 else False\n",
    "        self.decks = decks\n",
    "\n",
    "        self.cards_in_play = [x + y for x, y in zip(self.player_hand, self.dealer_hand)]\n",
    "\n",
    "        self.valid = True if all(x < 4*self.decks + 1  for x in self.cards_in_play[1:]) and self.cards_in_play[0] < 16*self.decks + 1 else False\n",
    "\n",
    "    def add_stick_probability(self, simulations):\n",
    "        self.stick_probability = simulateGames(self, number_games = simulations)\n",
    "\n",
    "    def analyticalSolution(self):\n",
    "        deck_contents = deckContents(self)\n",
    "        total_cards_in_deck = sum(deck_contents)\n",
    "        Master = {}\n",
    "        Next = {\"\".join(map(str, self.dealer_hand)): [self.dealer_hand, 1]}\n",
    "        Depth = 0\n",
    "        while len(Next) != 0:\n",
    "            Current = Next.copy()\n",
    "            Next = {}\n",
    "            for hand_index in Current.keys():\n",
    "                for drawn_card in range(1,11):\n",
    "                    hand = Current[hand_index][0].copy()\n",
    "                    comparison = hand.copy()#Improve this and next two lines :/\n",
    "                    comparison[10 - self.dealer_face] -= 1\n",
    "                    if comparison[10 - drawn_card] < deck_contents[10 - drawn_card]:\n",
    "                        next_index_cards = hand.copy()\n",
    "                        next_index_cards[10 - drawn_card] += 1\n",
    "                        next_index = \"\".join(map(str, next_index_cards))\n",
    "                        next_score = score(next_index_cards)\n",
    "                        hand[10 - self.dealer_face] -= 1\n",
    "                        if next_score < 17:\n",
    "                            if next_index not in Next.keys():\n",
    "                                Next[next_index] = [next_index_cards, 0]\n",
    "                            Next[next_index][1] += Current[hand_index][1] * (deck_contents[10 - drawn_card] - hand[10 - drawn_card])/(total_cards_in_deck - Depth)\n",
    "                        else:\n",
    "                            if next_index not in Master.keys():\n",
    "                                Master[next_index] = [0, next_score]\n",
    "                            Master[next_index][0] += Current[hand_index][1] * (deck_contents[10 - drawn_card] - hand[10 - drawn_card])/(total_cards_in_deck - Depth)\n",
    "            Depth += 1\n",
    "\n",
    "        count = [0,0,0]\n",
    "        score_outcomes = {}\n",
    "        player_score = self.score\n",
    "        for possible_dealer_score in range(17, 27):\n",
    "            if (self.score < 22):\n",
    "                if (self.score > possible_dealer_score):\n",
    "                    score_outcomes[possible_dealer_score] = 0\n",
    "                if self.score < possible_dealer_score and possible_dealer_score < 22:\n",
    "                    score_outcomes[possible_dealer_score] =  1\n",
    "                if (possible_dealer_score > 21):\n",
    "                    score_outcomes[possible_dealer_score] = 0\n",
    "                if (self.score == possible_dealer_score):\n",
    "                    score_outcomes[possible_dealer_score] = 2\n",
    "            else:\n",
    "                score_outcomes[possible_dealer_score] = 1\n",
    "\n",
    "        for check in Master.keys():\n",
    "            count[score_outcomes[Master[check][1]]] += Master[check][0]\n",
    "\n",
    "        self.analytic_stick_probability = (count[0] - count[1])/sum(count)\n",
    "        self.error = self.analytic_stick_probability - self.stick_probability"
   ]
  },
  {
   "cell_type": "code",
   "execution_count": 56,
   "metadata": {},
   "outputs": [],
   "source": [
    "def getPositions(decks = 1):\n",
    "    Next = {10000000000000 : Position(index = 10000000000000, dealer_card = 1)}\n",
    "    Master = {}\n",
    "    runs = 0\n",
    "    while len(Next) != 0:\n",
    "        Current = Next\n",
    "        Next = {}\n",
    "        for position in Current.values():\n",
    "            for drawn in range(1, 11):\n",
    "                gate = True\n",
    "                for dealer_card in range(1, 11):\n",
    "                    temp = position.player_hand.copy()\n",
    "                    current_position = Position(cards = temp, draw = drawn, dealer_card = dealer_card, decks = decks)\n",
    "                    if not current_position.bust and current_position.valid:\n",
    "                        if gate:\n",
    "                            Next[current_position.index] = current_position\n",
    "                            gate = False\n",
    "                        if runs > 0:\n",
    "                            Master[current_position.index] = current_position\n",
    "        runs += 1\n",
    "    return Master"
   ]
  },
  {
   "cell_type": "code",
   "execution_count": 57,
   "metadata": {},
   "outputs": [],
   "source": [
    "class Strategy:\n",
    "    def __init__(self, decks = 1):\n",
    "        self.positions = getPositions(decks = decks)\n",
    "    \n",
    "    def get_stick_probability(self, simulations):\n",
    "        for position in self.positions.values():\n",
    "            position.add_stick_probability(simulations)"
   ]
  },
  {
   "cell_type": "code",
   "execution_count": 58,
   "metadata": {},
   "outputs": [],
   "source": [
    "strategy = Strategy()\n",
    "strategy.get_stick_probability(10000)"
   ]
  },
  {
   "cell_type": "code",
   "execution_count": 59,
   "metadata": {},
   "outputs": [],
   "source": [
    "for i in strategy.positions.values():\n",
    "    i.analyticalSolution()"
   ]
  },
  {
   "cell_type": "code",
   "execution_count": 60,
   "metadata": {},
   "outputs": [
    {
     "data": {
      "text/plain": [
       "{'player_hand': [0, 0, 0, 0, 0, 0, 0, 0, 0, 2],\n",
       " 'dealer_hand': [0, 0, 0, 0, 0, 0, 0, 0, 0, 1],\n",
       " 'index': 11000000000002,\n",
       " 'hand_size': 10,\n",
       " 'dealer_face': 1,\n",
       " 'score': 12,\n",
       " 'bust': False,\n",
       " 'decks': 1,\n",
       " 'cards_in_play': [0, 0, 0, 0, 0, 0, 0, 0, 0, 3],\n",
       " 'valid': True,\n",
       " 'stick_probability': -0.7796,\n",
       " 'analytic_stick_probability': -0.7731363901853265,\n",
       " 'error': 0.006463609814673421}"
      ]
     },
     "execution_count": 60,
     "metadata": {},
     "output_type": "execute_result"
    }
   ],
   "source": [
    "vars(strategy.positions[11000000000002])"
   ]
  },
  {
   "cell_type": "code",
   "execution_count": 61,
   "metadata": {},
   "outputs": [],
   "source": [
    "errors = []\n",
    "for i in strategy.positions.values():\n",
    "    errors.append(i.error)"
   ]
  },
  {
   "cell_type": "code",
   "execution_count": 62,
   "metadata": {},
   "outputs": [],
   "source": [
    "import matplotlib.pyplot as plt"
   ]
  },
  {
   "cell_type": "code",
   "execution_count": 63,
   "metadata": {},
   "outputs": [
    {
     "data": {
      "text/plain": [
       "(array([  1.,   0.,   2.,   2.,   0.,   4.,   5.,   3.,   7.,  10.,   8.,\n",
       "         13.,  17.,  24.,  20.,  26.,  41.,  43.,  65.,  70.,  81., 106.,\n",
       "        127., 142., 133., 205., 246., 292., 359., 396., 433., 500., 602.,\n",
       "        680., 806., 890., 924., 962., 945., 892., 814., 774., 711., 622.,\n",
       "        619., 558., 517., 466., 459., 419., 384., 349., 326., 293., 233.,\n",
       "        237., 185., 196., 148., 153., 152., 125., 105.,  68.,  97.,  68.,\n",
       "         77.,  48.,  53.,  38.,  42.,  36.,  31.,  24.,  14.,  23.,  10.,\n",
       "         16.,  12.,   9.,   4.,  10.,   2.,   2.,   2.,   1.,   0.,   2.,\n",
       "          0.,   1.,   0.,   0.,   0.,   0.,   0.,   0.,   0.,   0.,   2.,\n",
       "          1.]),\n",
       " array([-0.02878268, -0.02797778, -0.02717288, -0.02636799, -0.02556309,\n",
       "        -0.02475819, -0.02395329, -0.02314839, -0.02234349, -0.0215386 ,\n",
       "        -0.0207337 , -0.0199288 , -0.0191239 , -0.018319  , -0.0175141 ,\n",
       "        -0.01670921, -0.01590431, -0.01509941, -0.01429451, -0.01348961,\n",
       "        -0.01268471, -0.01187982, -0.01107492, -0.01027002, -0.00946512,\n",
       "        -0.00866022, -0.00785532, -0.00705043, -0.00624553, -0.00544063,\n",
       "        -0.00463573, -0.00383083, -0.00302593, -0.00222103, -0.00141614,\n",
       "        -0.00061124,  0.00019366,  0.00099856,  0.00180346,  0.00260836,\n",
       "         0.00341325,  0.00421815,  0.00502305,  0.00582795,  0.00663285,\n",
       "         0.00743775,  0.00824264,  0.00904754,  0.00985244,  0.01065734,\n",
       "         0.01146224,  0.01226714,  0.01307203,  0.01387693,  0.01468183,\n",
       "         0.01548673,  0.01629163,  0.01709653,  0.01790142,  0.01870632,\n",
       "         0.01951122,  0.02031612,  0.02112102,  0.02192592,  0.02273081,\n",
       "         0.02353571,  0.02434061,  0.02514551,  0.02595041,  0.02675531,\n",
       "         0.0275602 ,  0.0283651 ,  0.02917   ,  0.0299749 ,  0.0307798 ,\n",
       "         0.0315847 ,  0.03238959,  0.03319449,  0.03399939,  0.03480429,\n",
       "         0.03560919,  0.03641409,  0.03721899,  0.03802388,  0.03882878,\n",
       "         0.03963368,  0.04043858,  0.04124348,  0.04204838,  0.04285327,\n",
       "         0.04365817,  0.04446307,  0.04526797,  0.04607287,  0.04687777,\n",
       "         0.04768266,  0.04848756,  0.04929246,  0.05009736,  0.05090226,\n",
       "         0.05170716]),\n",
       " <BarContainer object of 100 artists>)"
      ]
     },
     "execution_count": 63,
     "metadata": {},
     "output_type": "execute_result"
    },
    {
     "data": {
      "image/png": "[encoded data removed]",
      "text/plain": [
       "<Figure size 640x480 with 1 Axes>"
      ]
     },
     "metadata": {},
     "output_type": "display_data"
    }
   ],
   "source": [
    "plt.hist(errors, bins = 100)"
   ]
  },
  {
   "cell_type": "code",
   "execution_count": 64,
   "metadata": {},
   "outputs": [
    {
     "data": {
      "text/plain": [
       "0.004210800905178282"
      ]
     },
     "execution_count": 64,
     "metadata": {},
     "output_type": "execute_result"
    }
   ],
   "source": [
    "np.mean(errors)"
   ]
  },
  {
   "cell_type": "code",
   "execution_count": 48,
   "metadata": {},
   "outputs": [
    {
     "data": {
      "text/plain": [
       "(array([1.000e+00, 0.000e+00, 1.000e+00, 1.000e+00, 1.000e+00, 1.000e+00,\n",
       "        5.000e+00, 2.000e+00, 4.000e+00, 5.000e+00, 7.000e+00, 1.100e+01,\n",
       "        1.300e+01, 2.000e+01, 2.300e+01, 3.400e+01, 3.700e+01, 4.200e+01,\n",
       "        4.800e+01, 6.600e+01, 1.070e+02, 9.600e+01, 1.370e+02, 1.810e+02,\n",
       "        2.010e+02, 2.270e+02, 2.740e+02, 3.270e+02, 3.880e+02, 4.450e+02,\n",
       "        5.780e+02, 6.740e+02, 7.350e+02, 9.160e+02, 9.630e+02, 9.900e+02,\n",
       "        1.005e+03, 9.950e+02, 9.240e+02, 8.480e+02, 7.960e+02, 7.230e+02,\n",
       "        6.730e+02, 6.210e+02, 5.240e+02, 5.640e+02, 4.830e+02, 4.600e+02,\n",
       "        4.110e+02, 3.660e+02, 3.380e+02, 2.830e+02, 2.730e+02, 2.330e+02,\n",
       "        2.180e+02, 1.730e+02, 1.390e+02, 1.550e+02, 1.100e+02, 1.270e+02,\n",
       "        9.800e+01, 7.800e+01, 6.300e+01, 5.900e+01, 5.300e+01, 4.500e+01,\n",
       "        3.800e+01, 3.900e+01, 3.100e+01, 2.300e+01, 1.100e+01, 1.300e+01,\n",
       "        9.000e+00, 1.600e+01, 8.000e+00, 5.000e+00, 2.000e+00, 5.000e+00,\n",
       "        3.000e+00, 5.000e+00, 4.000e+00, 2.000e+00, 2.000e+00, 3.000e+00,\n",
       "        1.000e+00, 0.000e+00, 0.000e+00, 0.000e+00, 0.000e+00, 0.000e+00,\n",
       "        0.000e+00, 0.000e+00, 0.000e+00, 0.000e+00, 0.000e+00, 0.000e+00,\n",
       "        0.000e+00, 0.000e+00, 0.000e+00, 1.000e+00]),\n",
       " array([-0.0303081 , -0.02943122, -0.02855433, -0.02767745, -0.02680056,\n",
       "        -0.02592368, -0.02504679, -0.02416991, -0.02329302, -0.02241614,\n",
       "        -0.02153925, -0.02066237, -0.01978548, -0.0189086 , -0.01803172,\n",
       "        -0.01715483, -0.01627795, -0.01540106, -0.01452418, -0.01364729,\n",
       "        -0.01277041, -0.01189352, -0.01101664, -0.01013975, -0.00926287,\n",
       "        -0.00838598, -0.0075091 , -0.00663222, -0.00575533, -0.00487845,\n",
       "        -0.00400156, -0.00312468, -0.00224779, -0.00137091, -0.00049402,\n",
       "         0.00038286,  0.00125975,  0.00213663,  0.00301352,  0.0038904 ,\n",
       "         0.00476728,  0.00564417,  0.00652105,  0.00739794,  0.00827482,\n",
       "         0.00915171,  0.01002859,  0.01090548,  0.01178236,  0.01265925,\n",
       "         0.01353613,  0.01441302,  0.0152899 ,  0.01616678,  0.01704367,\n",
       "         0.01792055,  0.01879744,  0.01967432,  0.02055121,  0.02142809,\n",
       "         0.02230498,  0.02318186,  0.02405875,  0.02493563,  0.02581252,\n",
       "         0.0266894 ,  0.02756628,  0.02844317,  0.02932005,  0.03019694,\n",
       "         0.03107382,  0.03195071,  0.03282759,  0.03370448,  0.03458136,\n",
       "         0.03545825,  0.03633513,  0.03721202,  0.0380889 ,  0.03896578,\n",
       "         0.03984267,  0.04071955,  0.04159644,  0.04247332,  0.04335021,\n",
       "         0.04422709,  0.04510398,  0.04598086,  0.04685775,  0.04773463,\n",
       "         0.04861152,  0.0494884 ,  0.05036528,  0.05124217,  0.05211905,\n",
       "         0.05299594,  0.05387282,  0.05474971,  0.05562659,  0.05650348,\n",
       "         0.05738036]),\n",
       " <BarContainer object of 100 artists>)"
      ]
     },
     "execution_count": 48,
     "metadata": {},
     "output_type": "execute_result"
    },
    {
     "data": {
      "image/png": "[encoded data removed]",
      "text/plain": [
       "<Figure size 640x480 with 1 Axes>"
      ]
     },
     "metadata": {},
     "output_type": "display_data"
    }
   ],
   "source": [
    "plt.hist(errors, bins = 100)"
   ]
  },
  {
   "cell_type": "code",
   "execution_count": 66,
   "metadata": {},
   "outputs": [],
   "source": [
    "test = strategy.positions[11000000000002]"
   ]
  },
  {
   "cell_type": "code",
   "execution_count": 67,
   "metadata": {},
   "outputs": [],
   "source": [
    "def simulateGames2(position, number_games = 1000):#TODO\n",
    "    player_wins, dealer_wins, ties = 0, 0, 0\n",
    "    dealer_card = position.dealer_face\n",
    "    player_score = position.score\n",
    "    draw_weights = np.array([x - y for x, y in zip([card*position.decks for card in [16, 4, 4, 4, 4, 4, 4, 4, 4, 4]], position.cards_in_play)])\n",
    "    base_weights = []\n",
    "    for i in range(10):\n",
    "        base_weights += [10 - i]*draw_weights[i]\n",
    "\n",
    "    base_dealer_hand = [0, 0, 0, 0, 0, 0, 0, 0, 0, 0]\n",
    "    base_dealer_hand[10 - dealer_card] += 1\n",
    "\n",
    "    while number_games > 0:\n",
    "        temp_weights = base_weights.copy()\n",
    "        dealer_hand = base_dealer_hand.copy()\n",
    "        dealer_score = 0\n",
    "        while dealer_score < 17:\n",
    "            card = temp_weights.pop(rn.randint(0, len(temp_weights) - 1))\n",
    "            dealer_hand[10 - card] += 1\n",
    "            temp_weights[10 - card] -= 1\n",
    "            dealer_score = score(dealer_hand)\n",
    "        if player_score < 22:\n",
    "            if player_score > dealer_score:\n",
    "                player_wins += 1\n",
    "            if player_score < dealer_score and dealer_score < 22:\n",
    "                dealer_wins +=1\n",
    "            if dealer_score > 21:\n",
    "                player_wins +=1\n",
    "            if player_score == dealer_score:\n",
    "                ties += 1\n",
    "        if player_score > 21:\n",
    "            dealer_wins += 1\n",
    "\n",
    "        number_games -= 1 \n",
    "    return [player_wins, dealer_wins, ties]"
   ]
  },
  {
   "cell_type": "code",
   "execution_count": 84,
   "metadata": {},
   "outputs": [],
   "source": [
    "final = []\n",
    "running = np.array([0, 0, 0])\n",
    "for i in range(1000):\n",
    "    output = simulateGames2(test, 10000)\n",
    "    running = running + np.array(output)\n",
    "    final.append((running[0] - running[1])/sum(running))"
   ]
  },
  {
   "cell_type": "code",
   "execution_count": 85,
   "metadata": {},
   "outputs": [
    {
     "data": {
      "text/plain": [
       "<matplotlib.collections.LineCollection at 0x2282d86e900>"
      ]
     },
     "execution_count": 85,
     "metadata": {},
     "output_type": "execute_result"
    },
    {
     "data": {
      "image/png": "[encoded data removed]",
      "text/plain": [
       "<Figure size 640x480 with 1 Axes>"
      ]
     },
     "metadata": {},
     "output_type": "display_data"
    }
   ],
   "source": [
    "plt.plot(final)\n",
    "plt.hlines(y = test.analytic_stick_probability, xmin = 0, xmax = 1000)"
   ]
  },
  {
   "cell_type": "code",
   "execution_count": 88,
   "metadata": {},
   "outputs": [
    {
     "data": {
      "text/plain": [
       "-0.00456540981467346"
      ]
     },
     "execution_count": 88,
     "metadata": {},
     "output_type": "execute_result"
    }
   ],
   "source": [
    "final[-1] - test.analytic_stick_probability"
   ]
  },
  {
   "cell_type": "code",
   "execution_count": 90,
   "metadata": {},
   "outputs": [],
   "source": [
    "final = []\n",
    "running = np.array([0, 0, 0])\n",
    "for i in range(1000):\n",
    "    output = simulateGames2(test, 10000)\n",
    "    running = running + np.array(output)\n",
    "    final.append((running[0] - running[1])/sum(running))"
   ]
  },
  {
   "cell_type": "code",
   "execution_count": 91,
   "metadata": {},
   "outputs": [
    {
     "data": {
      "text/plain": [
       "<matplotlib.collections.LineCollection at 0x2282d538da0>"
      ]
     },
     "execution_count": 91,
     "metadata": {},
     "output_type": "execute_result"
    },
    {
     "data": {
      "image/png": "[encoded data removed]",
      "text/plain": [
       "<Figure size 640x480 with 1 Axes>"
      ]
     },
     "metadata": {},
     "output_type": "display_data"
    }
   ],
   "source": [
    "plt.plot(final)\n",
    "plt.hlines(y = test.analytic_stick_probability, xmin = 0, xmax = 1000)"
   ]
  },
  {
   "cell_type": "code",
   "execution_count": 92,
   "metadata": {},
   "outputs": [
    {
     "data": {
      "text/plain": [
       "-0.004224409814673424"
      ]
     },
     "execution_count": 92,
     "metadata": {},
     "output_type": "execute_result"
    }
   ],
   "source": [
    "final[-1] - test.analytic_stick_probability"
   ]
  },
  {
   "cell_type": "code",
   "execution_count": 93,
   "metadata": {},
   "outputs": [
    {
     "data": {
      "text/plain": [
       "-0.7731363901853265"
      ]
     },
     "execution_count": 93,
     "metadata": {},
     "output_type": "execute_result"
    }
   ],
   "source": [
    "test.analytic_stick_probability"
   ]
  },
  {
   "cell_type": "code",
   "execution_count": 94,
   "metadata": {},
   "outputs": [
    {
     "data": {
      "text/plain": [
       "-0.771358389867353"
      ]
     },
     "execution_count": 94,
     "metadata": {},
     "output_type": "execute_result"
    }
   ],
   "source": [
    "-0.771358389867353"
   ]
  },
  {
   "cell_type": "code",
   "execution_count": 95,
   "metadata": {},
   "outputs": [],
   "source": [
    "def analyticalSolution(position):\n",
    "    deck_contents = deckContents(position)\n",
    "    total_cards_in_deck = sum(deck_contents)\n",
    "    Master = {}\n",
    "    Next = {\"\".join(map(str, position.dealer_hand)): [position.dealer_hand, 1]}\n",
    "    Depth = 0\n",
    "    while len(Next) != 0:\n",
    "        Current = Next.copy()\n",
    "        Next = {}\n",
    "        for hand_index in Current.keys():\n",
    "            for drawn_card in range(1,11):\n",
    "                hand = Current[hand_index][0].copy()\n",
    "                comparison = hand.copy()#Improve this and next two lines :/\n",
    "                comparison[10 - position.dealer_face] -= 1\n",
    "                if comparison[10 - drawn_card] < deck_contents[10 - drawn_card]:\n",
    "                    next_index_cards = hand.copy()\n",
    "                    next_index_cards[10 - drawn_card] += 1\n",
    "                    next_index = \"\".join(map(str, next_index_cards))\n",
    "                    next_score = score(next_index_cards)\n",
    "                    hand[10 - position.dealer_face] -= 1\n",
    "                    if next_score < 17:\n",
    "                        if next_index not in Next.keys():\n",
    "                            Next[next_index] = [next_index_cards, 0]\n",
    "                        Next[next_index][1] += Current[hand_index][1] * (deck_contents[10 - drawn_card] - hand[10 - drawn_card])/(total_cards_in_deck - Depth)\n",
    "                    else:\n",
    "                        if next_index not in Master.keys():\n",
    "                            Master[next_index] = [0, next_score]\n",
    "                        Master[next_index][0] += Current[hand_index][1] * (deck_contents[10 - drawn_card] - hand[10 - drawn_card])/(total_cards_in_deck - Depth)\n",
    "        Depth += 1\n",
    "\n",
    "    count = [0,0,0]\n",
    "    score_outcomes = {}\n",
    "    player_score = position.score\n",
    "    for possible_dealer_score in range(17, 27):\n",
    "        if (position.score < 22):\n",
    "            if (position.score > possible_dealer_score):\n",
    "                score_outcomes[possible_dealer_score] = 0\n",
    "            if position.score < possible_dealer_score and possible_dealer_score < 22:\n",
    "                score_outcomes[possible_dealer_score] =  1\n",
    "            if (possible_dealer_score > 21):\n",
    "                score_outcomes[possible_dealer_score] = 0\n",
    "            if (position.score == possible_dealer_score):\n",
    "                score_outcomes[possible_dealer_score] = 2\n",
    "        else:\n",
    "            score_outcomes[possible_dealer_score] = 1\n",
    "\n",
    "    for check in Master.keys():\n",
    "        count[score_outcomes[Master[check][1]]] += Master[check][0]\n",
    "\n",
    "    return (count[0] - count[1])/sum(count)"
   ]
  },
  {
   "cell_type": "code",
   "execution_count": 96,
   "metadata": {},
   "outputs": [
    {
     "data": {
      "text/plain": [
       "-0.7731363901853265"
      ]
     },
     "execution_count": 96,
     "metadata": {},
     "output_type": "execute_result"
    }
   ],
   "source": [
    "analyticalSolution(test)"
   ]
  },
  {
   "cell_type": "code",
   "execution_count": 98,
   "metadata": {},
   "outputs": [
    {
     "data": {
      "text/plain": [
       "{'player_hand': [0, 0, 0, 0, 0, 0, 0, 0, 0, 2],\n",
       " 'dealer_hand': [0, 0, 0, 0, 0, 0, 0, 0, 0, 1],\n",
       " 'index': 11000000000002,\n",
       " 'hand_size': 10,\n",
       " 'dealer_face': 1,\n",
       " 'score': 12,\n",
       " 'bust': False,\n",
       " 'decks': 1,\n",
       " 'cards_in_play': [0, 0, 0, 0, 0, 0, 0, 0, 0, 3],\n",
       " 'valid': True,\n",
       " 'stick_probability': -0.7796,\n",
       " 'analytic_stick_probability': -0.7731363901853265,\n",
       " 'error': 0.006463609814673421}"
      ]
     },
     "execution_count": 98,
     "metadata": {},
     "output_type": "execute_result"
    }
   ],
   "source": [
    "vars(test)"
   ]
  },
  {
   "cell_type": "code",
   "execution_count": 97,
   "metadata": {},
   "outputs": [
    {
     "data": {
      "text/plain": [
       "-0.771358389867353"
      ]
     },
     "execution_count": 97,
     "metadata": {},
     "output_type": "execute_result"
    }
   ],
   "source": [
    "-0.771358389867353"
   ]
  }
 ],
 "metadata": {
  "kernelspec": {
   "display_name": "Python 3",
   "language": "python",
   "name": "python3"
  },
  "language_info": {
   "codemirror_mode": {
    "name": "ipython",
    "version": 3
   },
   "file_extension": ".py",
   "mimetype": "text/x-python",
   "name": "python",
   "nbconvert_exporter": "python",
   "pygments_lexer": "ipython3",
   "version": "3.12.2"
  }
 },
 "nbformat": 4,
 "nbformat_minor": 2
}
