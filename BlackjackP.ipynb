{
 "cells": [
  {
   "cell_type": "markdown",
   "metadata": {},
   "source": [
    "* Indexing method for making dictionary keys - DONE\n",
    "* each position is an object with index but also list showing cRDS - DONE\n",
    "* CAN PASS CARDS TO MC SO NO NEED TO BACK CONVERT. JUST USED AS A KEY. LIST IS USED FOR SCORING AND MC - DONE\n",
    "* Create full list of positions - DONE\n",
    "* Function to convert index keys to simulation inputs - DONE\n",
    "* MC simulation - DONE\n",
    "* Exact analytical solution - DONE\n",
    "* Algo for using simulation to solve for strategy\n",
    "* Compare analytical and numerical solution - DONE\n",
    "* Compare analytical and numerical strategy"
   ]
  },
  {
   "cell_type": "code",
   "execution_count": 23,
   "metadata": {},
   "outputs": [],
   "source": [
    "import random as rn\n",
    "import numpy as np\n",
    "import pandas as pd\n",
    "import matplotlib.pyplot as plt\n",
    "import math\n",
    "#Example index: 17000000001001\n",
    "#Example_hand: [7,0,0,0,0,0,0,0,0,10,1]\n",
    "#11000000000002 is dealer with a 10"
   ]
  },
  {
   "cell_type": "markdown",
   "metadata": {},
   "source": [
    "To do:\n",
    "* Reorder function to a more logical ordering\n",
    "* Check winner function that takes two scores as input and outputs 1,2,3\n",
    "* Move analyitcal solution to class method\n",
    "* Any function that relies on a class should be a method. No such thing as lalal(position)"
   ]
  },
  {
   "cell_type": "markdown",
   "metadata": {},
   "source": [
    "rules for index\n",
    "dealer 0 is a 10"
   ]
  },
  {
   "cell_type": "code",
   "execution_count": 24,
   "metadata": {},
   "outputs": [],
   "source": [
    "def cardsToIndex(player_hand, dealer_card, draw = None):\n",
    "    #1 is a 10\n",
    "    #0 is a ace\n",
    "    index_scaling = [10**11, 10**10, 10**9, 10**8, 10**7, 10**6, 10**5, 10**4, 10**2, 10**0]\n",
    "    index = 10000000000000 + dealer_card*10**12\n",
    "    if draw != None:\n",
    "        player_hand[10 - draw] += 1\n",
    "    for card in range(10):\n",
    "        index += index_scaling[card] * player_hand[card]\n",
    "    return index"
   ]
  },
  {
   "cell_type": "code",
   "execution_count": 25,
   "metadata": {},
   "outputs": [],
   "source": [
    "def indexToCards(index):#TODO\n",
    "    index = list(str(index)[1:])\n",
    "    dealer_hand = [0, 0, 0, 0, 0, 0, 0, 0, 0, 0]\n",
    "    dealer_hand[9 - int(index[0])] += 1\n",
    "    index = index[1:]\n",
    "    return [int(x) for x in index[0:-4] + [index[-4] + index[-3]] + [index[-2] + index[-1]]], dealer_hand"
   ]
  },
  {
   "cell_type": "code",
   "execution_count": 26,
   "metadata": {},
   "outputs": [],
   "source": [
    "def score(player_cards):\n",
    "    score = player_cards[-1] * 11\n",
    "    high_aces = player_cards[-1]\n",
    "    for cardIndex in range(9):\n",
    "        score += (10 - cardIndex) * player_cards[cardIndex]\n",
    "    #Determine whether to use aces as 1 or 11\n",
    "    while score > 21 and high_aces > 0:\n",
    "        if high_aces > 0:\n",
    "            score -= 10\n",
    "            high_aces -= 1\n",
    "    return score "
   ]
  },
  {
   "cell_type": "code",
   "execution_count": 27,
   "metadata": {},
   "outputs": [],
   "source": [
    "def simulateGames(position, number_games = 1000):#TODO\n",
    "    player_wins, dealer_wins, ties = 0, 0, 0\n",
    "    dealer_card = position.dealer_face\n",
    "    player_score = position.score\n",
    "    draw_weights = np.array([x - y for x, y in zip([card*position.decks for card in [16, 4, 4, 4, 4, 4, 4, 4, 4, 4]], position.cards_in_play)])\n",
    "    base_weights = []\n",
    "    for i in range(10):\n",
    "        base_weights += [10 - i]*draw_weights[i]\n",
    "\n",
    "    base_dealer_hand = [0, 0, 0, 0, 0, 0, 0, 0, 0, 0]\n",
    "    base_dealer_hand[10 - dealer_card] += 1\n",
    "\n",
    "    while number_games > 0:\n",
    "        temp_weights = base_weights.copy()\n",
    "        dealer_hand = base_dealer_hand.copy()\n",
    "        dealer_score = 0\n",
    "        while dealer_score < 17:\n",
    "            card = temp_weights.pop(rn.randint(0, len(temp_weights) - 1))\n",
    "            dealer_hand[10 - card] += 1\n",
    "            dealer_score = score(dealer_hand)\n",
    "        if player_score < 22:\n",
    "            if player_score > dealer_score:\n",
    "                player_wins += 1\n",
    "            if player_score < dealer_score and dealer_score < 22:\n",
    "                dealer_wins +=1\n",
    "            if dealer_score > 21:\n",
    "                player_wins +=1\n",
    "            if player_score == dealer_score:\n",
    "                ties += 1\n",
    "        if player_score > 21:\n",
    "            dealer_wins += 1\n",
    "\n",
    "        number_games -= 1 \n",
    "    return (player_wins - dealer_wins)/(player_wins + dealer_wins + ties)"
   ]
  },
  {
   "cell_type": "code",
   "execution_count": 28,
   "metadata": {},
   "outputs": [],
   "source": [
    "def deckContents(position):\n",
    "    return np.array([x - y for x, y in zip([card*position.decks for card in [16, 4, 4, 4, 4, 4, 4, 4, 4, 4]], position.cards_in_play)])"
   ]
  },
  {
   "cell_type": "code",
   "execution_count": 29,
   "metadata": {},
   "outputs": [],
   "source": [
    "class Position:\n",
    "    def __init__(self, index = None, cards = None, dealer_card = None, draw = None, decks = 1):\n",
    "        #10 card is a 1 in dealer cardsTo, ace is a 0\n",
    "        self.dealer_face = dict(zip(range(0,10), [1, 10, 2, 3, 4, 5, 6, 7, 8, 9]))[dealer_card]\n",
    "        if index != None:\n",
    "            self.index = index\n",
    "            self.player_hand, self.dealer_hand = indexToCards(self.index)\n",
    "        if index == None:\n",
    "            self.player_hand = cards\n",
    "            self.dealer_hand = [0, 0, 0, 0, 0, 0, 0, 0, 0, 0]\n",
    "            self.dealer_hand[10 - self.dealer_face] += 1\n",
    "            self.index = cardsToIndex(self.player_hand, dealer_card, draw)\n",
    "        self.hand_size = len(self.player_hand)\n",
    "        self.score = score(self.player_hand)\n",
    "        self.bust = True if self.score > 21 else False\n",
    "        self.decks = decks\n",
    "\n",
    "        self.cards_in_play = [x + y for x, y in zip(self.player_hand, self.dealer_hand)]\n",
    "\n",
    "        self.valid = True if all(x < 4*self.decks + 1  for x in self.cards_in_play[1:]) and self.cards_in_play[0] < 16*self.decks + 1 else False\n",
    "\n",
    "    def get_stick_probability(self, simulations):\n",
    "        self.stick_probability = simulateGames(self, number_games = simulations)"
   ]
  },
  {
   "cell_type": "code",
   "execution_count": 30,
   "metadata": {},
   "outputs": [],
   "source": [
    "def getPositions(decks = 1):\n",
    "    Next = {10000000000000 : Position(index = 10000000000000, dealer_card = 1)}\n",
    "    Master = {}\n",
    "    runs = 0\n",
    "    while len(Next) != 0:\n",
    "        Current = Next\n",
    "        Next = {}\n",
    "        for position in Current.values():\n",
    "            for drawn in range(1, 11):\n",
    "                gate = True\n",
    "                for dealer_card in range(0, 10):#This causes cards to index problems. Maybe best ro do range(10)\n",
    "                    temp = position.player_hand.copy()\n",
    "                    current_position = Position(cards = temp, draw = drawn, dealer_card = dealer_card, decks = decks)\n",
    "                    if not current_position.bust and current_position.valid:\n",
    "                        if gate:\n",
    "                            Next[current_position.index] = current_position\n",
    "                            gate = False\n",
    "                        if runs > 0:\n",
    "                            Master[current_position.index] = current_position\n",
    "        runs += 1\n",
    "    return Master"
   ]
  },
  {
   "cell_type": "code",
   "execution_count": 31,
   "metadata": {},
   "outputs": [],
   "source": [
    "class Strategy:\n",
    "    def __init__(self, decks = 1):\n",
    "        self.positions = getPositions(decks = decks)\n",
    "    \n",
    "    def get_stick_probability(self, simulations):\n",
    "        for position in self.positions.values():\n",
    "            position.get_stick_probability(simulations)"
   ]
  },
  {
   "cell_type": "code",
   "execution_count": 32,
   "metadata": {},
   "outputs": [],
   "source": [
    "def analyticalSolution(position):\n",
    "    deck_contents = deckContents(position)\n",
    "    total_cards_in_deck = sum(deck_contents)\n",
    "    Master = {}\n",
    "    Next = {\"\".join(map(str, position.dealer_hand)): [position.dealer_hand, 1]}\n",
    "    Depth = 0\n",
    "    while len(Next) != 0:\n",
    "        Current = Next.copy()\n",
    "        Next = {}\n",
    "        for hand_index in Current.keys():\n",
    "            for drawn_card in range(1,11):\n",
    "                hand = Current[hand_index][0].copy()\n",
    "                comparison = hand.copy()#Improve this and next two lines :/\n",
    "                comparison[10 - position.dealer_face] -= 1\n",
    "                if comparison[10 - drawn_card] < deck_contents[10 - drawn_card]:\n",
    "                    next_index_cards = hand.copy()\n",
    "                    next_index_cards[10 - drawn_card] += 1\n",
    "                    next_index = \"\".join(map(str, next_index_cards))\n",
    "                    next_score = score(next_index_cards)\n",
    "                    hand[10 - position.dealer_face] -= 1\n",
    "                    if next_score < 17:\n",
    "                        if next_index not in Next.keys():\n",
    "                            Next[next_index] = [next_index_cards, 0]\n",
    "                        Next[next_index][1] += Current[hand_index][1] * (deck_contents[10 - drawn_card] - hand[10 - drawn_card])/(total_cards_in_deck - Depth)\n",
    "                    else:\n",
    "                        if next_index not in Master.keys():\n",
    "                            Master[next_index] = [0, next_score]\n",
    "                        Master[next_index][0] += Current[hand_index][1] * (deck_contents[10 - drawn_card] - hand[10 - drawn_card])/(total_cards_in_deck - Depth)\n",
    "        Depth += 1\n",
    "\n",
    "    count = [0,0,0]\n",
    "    score_outcomes = {}\n",
    "    player_score = position.score\n",
    "    for possible_dealer_score in range(17, 27):\n",
    "        if (position.score < 22):\n",
    "            if (position.score > possible_dealer_score):\n",
    "                score_outcomes[possible_dealer_score] = 0\n",
    "            if position.score < possible_dealer_score and possible_dealer_score < 22:\n",
    "                score_outcomes[possible_dealer_score] =  1\n",
    "            if (possible_dealer_score > 21):\n",
    "                score_outcomes[possible_dealer_score] = 0\n",
    "            if (position.score == possible_dealer_score):\n",
    "                score_outcomes[possible_dealer_score] = 2\n",
    "        else:\n",
    "            score_outcomes[possible_dealer_score] = 1\n",
    "\n",
    "    for check in Master.keys():\n",
    "        count[score_outcomes[Master[check][1]]] += Master[check][0]\n",
    "\n",
    "    return (count[0] - count[1])/sum(count)"
   ]
  },
  {
   "cell_type": "code",
   "execution_count": 33,
   "metadata": {},
   "outputs": [
    {
     "data": {
      "image/png": "[encoded data removed]",
      "text/plain": [
       "<Figure size 640x480 with 1 Axes>"
      ]
     },
     "metadata": {},
     "output_type": "display_data"
    }
   ],
   "source": [
    "strategy = Strategy()\n",
    "strategy.get_stick_probability(1000)\n",
    "errors = []\n",
    "plt.hist(errors, bins = 100)\n",
    "plt.show()\n",
    "for i in strategy.positions.values():\n",
    "    errors.append(analyticalSolution(i) - i.stick_probability)"
   ]
  },
  {
   "cell_type": "code",
   "execution_count": 37,
   "metadata": {},
   "outputs": [
    {
     "data": {
      "image/png": "[encoded data removed]",
      "text/plain": [
       "<Figure size 640x480 with 1 Axes>"
      ]
     },
     "metadata": {},
     "output_type": "display_data"
    }
   ],
   "source": [
    "plt.hist(errors, bins = 500)\n",
    "plt.show()"
   ]
  },
  {
   "cell_type": "code",
   "execution_count": 35,
   "metadata": {},
   "outputs": [
    {
     "data": {
      "text/plain": [
       "2.8492036676751044e-05"
      ]
     },
     "execution_count": 35,
     "metadata": {},
     "output_type": "execute_result"
    }
   ],
   "source": [
    "np.mean(errors)"
   ]
  }
 ],
 "metadata": {
  "kernelspec": {
   "display_name": "Python 3",
   "language": "python",
   "name": "python3"
  },
  "language_info": {
   "codemirror_mode": {
    "name": "ipython",
    "version": 3
   },
   "file_extension": ".py",
   "mimetype": "text/x-python",
   "name": "python",
   "nbconvert_exporter": "python",
   "pygments_lexer": "ipython3",
   "version": "3.12.2"
  }
 },
 "nbformat": 4,
 "nbformat_minor": 2
}
