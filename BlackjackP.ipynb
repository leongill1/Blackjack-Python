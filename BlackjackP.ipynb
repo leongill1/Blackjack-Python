{
 "cells": [
  {
   "cell_type": "markdown",
   "metadata": {},
   "source": [
    "* Algo for using simulation to solve for strategy\n",
    "* Compare analytical and numerical strategy"
   ]
  },
  {
   "cell_type": "code",
   "execution_count": 12,
   "metadata": {},
   "outputs": [],
   "source": [
    "import random as rn\n",
    "import numpy as np\n",
    "import pandas as pd\n",
    "import matplotlib.pyplot as plt\n",
    "import math"
   ]
  },
  {
   "cell_type": "code",
   "execution_count": 13,
   "metadata": {},
   "outputs": [],
   "source": [
    "def cardsToIndex(player_hand, dealer_card, draw = None):\n",
    "    index_scaling = [10**11, 10**10, 10**9, 10**8, 10**7, 10**6, 10**5, 10**4, 10**2, 10**0]\n",
    "    index = 10000000000000 + dealer_card*10**12\n",
    "    player_hand[10 - draw] += 1 if draw != None else player_hand\n",
    "    for card in range(10):\n",
    "        index += index_scaling[card] * player_hand[card]\n",
    "    return index"
   ]
  },
  {
   "cell_type": "code",
   "execution_count": 14,
   "metadata": {},
   "outputs": [],
   "source": [
    "def indexToCards(index):#TODO\n",
    "    index = list(str(index)[1:])\n",
    "    dealer_hand = [0, 0, 0, 0, 0, 0, 0, 0, 0, 0]\n",
    "    dealer_hand[9 - int(index[0])] += 1\n",
    "    index = index[1:]\n",
    "    return [int(x) for x in index[0:-4] + [index[-4] + index[-3]] + [index[-2] + index[-1]]], dealer_hand"
   ]
  },
  {
   "cell_type": "code",
   "execution_count": 15,
   "metadata": {},
   "outputs": [],
   "source": [
    "def score(player_cards):\n",
    "    score = player_cards[-1] * 11\n",
    "    high_aces = player_cards[-1]\n",
    "    for cardIndex in range(9):\n",
    "        score += (10 - cardIndex) * player_cards[cardIndex]\n",
    "    #Determine whether to use aces as 1 or 11\n",
    "    while score > 21 and high_aces > 0:\n",
    "        if high_aces > 0:\n",
    "            score -= 10\n",
    "            high_aces -= 1\n",
    "    return score "
   ]
  },
  {
   "cell_type": "code",
   "execution_count": 16,
   "metadata": {},
   "outputs": [],
   "source": [
    "def winner(player_score, dealer_score):\n",
    "    if player_score < 22:\n",
    "        if player_score > dealer_score:\n",
    "            return 0\n",
    "        if player_score < dealer_score and dealer_score < 22:\n",
    "            return 1\n",
    "        if dealer_score > 21:\n",
    "            return 0\n",
    "        if player_score == dealer_score:\n",
    "            return 2\n",
    "    else:\n",
    "        return 1"
   ]
  },
  {
   "cell_type": "code",
   "execution_count": 17,
   "metadata": {},
   "outputs": [],
   "source": [
    "def deckContents(position):\n",
    "    return np.array([x - y for x, y in zip([card*position.decks for card in [16, 4, 4, 4, 4, 4, 4, 4, 4, 4]], position.cards_in_play)])"
   ]
  },
  {
   "cell_type": "code",
   "execution_count": 18,
   "metadata": {},
   "outputs": [],
   "source": [
    "class Position:\n",
    "    def __init__(self, index = None, cards = None, dealer_card = None, draw = None, decks = 1):\n",
    "        self.dealer_face = dict(zip(range(0,10), [1, 10, 2, 3, 4, 5, 6, 7, 8, 9]))[dealer_card]\n",
    "        if index != None:\n",
    "            self.index = index\n",
    "            self.player_hand, self.dealer_hand = indexToCards(self.index)\n",
    "        if index == None:\n",
    "            self.player_hand = cards\n",
    "            self.dealer_hand = [0, 0, 0, 0, 0, 0, 0, 0, 0, 0]\n",
    "            self.dealer_hand[10 - self.dealer_face] += 1\n",
    "            self.index = cardsToIndex(self.player_hand, dealer_card, draw)\n",
    "        self.hand_size = len(self.player_hand)\n",
    "        self.score = score(self.player_hand)\n",
    "        self.bust = True if self.score > 21 else False\n",
    "        self.decks = decks\n",
    "        self.parents = []\n",
    "        self.hit_return = 0\n",
    "        \n",
    "\n",
    "        self.cards_in_play = [x + y for x, y in zip(self.player_hand, self.dealer_hand)]\n",
    "\n",
    "        self.valid = True if all(x < 4*self.decks + 1  for x in self.cards_in_play[1:]) and self.cards_in_play[0] < 16*self.decks + 1 else False\n",
    "\n",
    "    def get_numerical_stick_probability(self, simulations):\n",
    "        outcomes = [0, 0, 0]\n",
    "        player_wins, dealer_wins, ties = 0, 0, 0\n",
    "        dealer_card = self.dealer_face\n",
    "        player_score = self.score\n",
    "        draw_weights = np.array([x - y for x, y in zip([card*self.decks for card in [16, 4, 4, 4, 4, 4, 4, 4, 4, 4]], self.cards_in_play)])\n",
    "        base_weights = []\n",
    "        for i in range(10):\n",
    "            base_weights += [10 - i]*draw_weights[i]\n",
    "\n",
    "        base_dealer_hand = [0, 0, 0, 0, 0, 0, 0, 0, 0, 0]\n",
    "        base_dealer_hand[10 - dealer_card] += 1\n",
    "\n",
    "        while simulations > 0:\n",
    "            temp_weights = base_weights.copy()\n",
    "            dealer_hand = base_dealer_hand.copy()\n",
    "            dealer_score = 0\n",
    "            while dealer_score < 17:\n",
    "                card = temp_weights.pop(rn.randint(0, len(temp_weights) - 1))\n",
    "                dealer_hand[10 - card] += 1\n",
    "                dealer_score = score(dealer_hand)\n",
    "            outcomes[winner(player_score, dealer_score)] += 1\n",
    "\n",
    "            simulations -= 1 \n",
    "        self.numerical_stick_probability = (outcomes[0] - outcomes[1])/sum(outcomes)\n",
    "\n",
    "    def get_analytic_stick_probability(self):\n",
    "        deck_contents = deckContents(self)\n",
    "        total_cards_in_deck = sum(deck_contents)\n",
    "        Master = {}\n",
    "        Next = {\"\".join(map(str, self.dealer_hand)): [self.dealer_hand, 1]}\n",
    "        Depth = 0\n",
    "        while len(Next) != 0:\n",
    "            Current = Next.copy()\n",
    "            Next = {}\n",
    "            for hand_index in Current.keys():\n",
    "                for drawn_card in range(1,11):\n",
    "                    hand = Current[hand_index][0].copy()\n",
    "                    comparison = hand.copy()#Improve this and next two lines :/\n",
    "                    comparison[10 - self.dealer_face] -= 1\n",
    "                    if comparison[10 - drawn_card] < deck_contents[10 - drawn_card]:\n",
    "                        next_index_cards = hand.copy()\n",
    "                        next_index_cards[10 - drawn_card] += 1\n",
    "                        next_index = \"\".join(map(str, next_index_cards))\n",
    "                        next_score = score(next_index_cards)\n",
    "                        hand[10 - self.dealer_face] -= 1\n",
    "                        if next_score < 17:\n",
    "                            if next_index not in Next.keys():\n",
    "                                Next[next_index] = [next_index_cards, 0]\n",
    "                            Next[next_index][1] += Current[hand_index][1] * (deck_contents[10 - drawn_card] - hand[10 - drawn_card])/(total_cards_in_deck - Depth)\n",
    "                        else:\n",
    "                            if next_index not in Master.keys():\n",
    "                                Master[next_index] = [0, next_score]\n",
    "                            Master[next_index][0] += Current[hand_index][1] * (deck_contents[10 - drawn_card] - hand[10 - drawn_card])/(total_cards_in_deck - Depth)\n",
    "            Depth += 1\n",
    "\n",
    "        count = [0,0,0]\n",
    "        score_outcomes = {}\n",
    "        player_score = self.score\n",
    "        for possible_dealer_score in range(17, 27):\n",
    "            score_outcomes[possible_dealer_score] = winner(player_score, possible_dealer_score)\n",
    "        for check in Master.keys():\n",
    "            count[score_outcomes[Master[check][1]]] += Master[check][0]\n",
    "\n",
    "        self.analytic_stick_probability = (count[0] - count[1])/sum(count)\n",
    "\n",
    "    def get_error(self):\n",
    "        self.error = self.analytic_stick_probability - self.numerical_stick_probability\n",
    "\n",
    "    def set_hit_return(self, hit_return):\n",
    "        self.hit_return = hit_return"
   ]
  },
  {
   "cell_type": "code",
   "execution_count": 19,
   "metadata": {},
   "outputs": [],
   "source": [
    "class Strategy:\n",
    "    def __init__(self, decks = 1):\n",
    "        self.decks = decks\n",
    "\n",
    "    def get_positions(self):\n",
    "        Next = {10000000000000 : Position(index = 10000000000000, dealer_card = 1)}\n",
    "        self.positions = {}\n",
    "        runs = 0\n",
    "        while len(Next) != 0:\n",
    "            Current = Next.copy()\n",
    "            Next = {}\n",
    "            for position in Current.values():\n",
    "                for drawn in range(1, 11):\n",
    "                    gate = True\n",
    "                    for dealer_card in range(0, 10):\n",
    "                        temp = position.player_hand.copy()\n",
    "                        current_position = Position(cards = temp, draw = drawn, dealer_card = dealer_card, decks = self.decks)\n",
    "                        if not current_position.bust and current_position.valid:\n",
    "                            if gate:\n",
    "                                Next[current_position.index] = current_position\n",
    "                                gate = False\n",
    "                            if runs > 0:\n",
    "                                self.positions[current_position.index] = current_position\n",
    "            runs += 1\n",
    "    \n",
    "    def get_numerical_stick_probability(self, simulations):\n",
    "        for position in self.positions.values():\n",
    "            position.get_numerical_stick_probability(simulations)\n",
    "    \n",
    "    def get_analytic_stick_probability(self):\n",
    "        for position in self.positions.values():\n",
    "            position.get_analytic_stick_probability()\n",
    "\n",
    "    def get_error(self):\n",
    "        for position in self.positions.values():\n",
    "            position.get_error()       "
   ]
  },
  {
   "cell_type": "code",
   "execution_count": 20,
   "metadata": {},
   "outputs": [
    {
     "data": {
      "image/png": "[encoded data removed]",
      "text/plain": [
       "<Figure size 640x480 with 1 Axes>"
      ]
     },
     "metadata": {},
     "output_type": "display_data"
    },
    {
     "data": {
      "text/plain": [
       "7.889978387349165e-05"
      ]
     },
     "execution_count": 20,
     "metadata": {},
     "output_type": "execute_result"
    }
   ],
   "source": [
    "strategy = Strategy()\n",
    "strategy.get_positions()\n",
    "strategy.get_numerical_stick_probability(100)\n",
    "strategy.get_analytic_stick_probability()\n",
    "strategy.get_error()\n",
    "#We expect the difference between Monte Carlo derived and anlytically derived probabilities \n",
    "#to follow a Gaussian distribution with mean 0 and sd proportional to inv sqrt number of simulations\n",
    "errors = [position.error for position in strategy.positions.values()]\n",
    "plt.hist(errors, bins = 100)\n",
    "plt.show()\n",
    "np.mean(errors)"
   ]
  },
  {
   "cell_type": "markdown",
   "metadata": {},
   "source": [
    "Obtain optimal strategy\n",
    "* Start at top\n",
    "* Go through stick, hit\n",
    "* Choose optimal. Log as property. Go next. \n",
    "* When size 2, include surrender and double down. Maybe add double down always. "
   ]
  },
  {
   "cell_type": "code",
   "execution_count": 21,
   "metadata": {},
   "outputs": [],
   "source": [
    "for position in reversed(strategy.positions.values()):#Reverse so we start with largest hands and work down\n",
    "    hit_return = 0\n",
    "    for drawable_card in range(0,10):\n",
    "        current_index = cardsToIndex(position.player_hand, position.dealer_face, draw = drawable_card + 1)\n",
    "        p = position.cards_in_play[9 - drawable_card]/(52 * position.decks - sum(position.cards_in_play))\n",
    "        daughter_stick_return = strategy.positions[current_index].self.analytic_stick_probability if current_index in strategy.positions else -1\n",
    "        hit_return += p * daughter_stick_return\n",
    "    strategy.positions[position.index].set_hit_return(hit_return)"
   ]
  },
  {
   "cell_type": "code",
   "execution_count": 22,
   "metadata": {},
   "outputs": [
    {
     "data": {
      "text/plain": [
       "{'dealer_face': 1,\n",
       " 'player_hand': [1, 1, 1, 1, 1, 1, 1, 1, 1, 3],\n",
       " 'dealer_hand': [0, 0, 0, 0, 0, 0, 0, 0, 0, 1],\n",
       " 'index': 10000000000002,\n",
       " 'hand_size': 10,\n",
       " 'score': 12,\n",
       " 'bust': False,\n",
       " 'decks': 1,\n",
       " 'parents': [],\n",
       " 'expected_return': -0.00510204081632653,\n",
       " 'cards_in_play': [0, 0, 0, 0, 0, 0, 0, 0, 0, 3],\n",
       " 'valid': True,\n",
       " 'numerical_stick_probability': -0.84,\n",
       " 'analytic_stick_probability': -0.7731363901853265,\n",
       " 'error': 0.06686360981467343}"
      ]
     },
     "execution_count": 22,
     "metadata": {},
     "output_type": "execute_result"
    }
   ],
   "source": [
    "vars(position)"
   ]
  }
 ],
 "metadata": {
  "kernelspec": {
   "display_name": "Python 3",
   "language": "python",
   "name": "python3"
  },
  "language_info": {
   "codemirror_mode": {
    "name": "ipython",
    "version": 3
   },
   "file_extension": ".py",
   "mimetype": "text/x-python",
   "name": "python",
   "nbconvert_exporter": "python",
   "pygments_lexer": "ipython3",
   "version": "3.12.2"
  }
 },
 "nbformat": 4,
 "nbformat_minor": 2
}
