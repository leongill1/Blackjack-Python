{
 "cells": [
  {
   "cell_type": "markdown",
   "metadata": {},
   "source": [
    "* Indexing method for making dictionary keys - DONE\n",
    "* each position is an object with index but also list showing cRDS - DONE\n",
    "* CAN PASS CARDS TO MC SO NO NEED TO BACK CONVERT. JUST USED AS A KEY. LIST IS USED FOR SCORING AND MC - DONE\n",
    "* Create full list of positions - DONE\n",
    "* Function to convert index keys to simulation inputs - DONE\n",
    "* MC simulation\n",
    "* Exact analytical solution\n",
    "* Algo for using simulation to solve for strategy\n",
    "* Compare analytical and numerical solution\n",
    "* For playing games, the int indexes may just work. Just for strategy making they wont as those impossible hands are tehcnically possible. \n"
   ]
  },
  {
   "cell_type": "code",
   "execution_count": 143,
   "metadata": {},
   "outputs": [
    {
     "data": {
      "text/plain": [
       "[7, 0, 0, 0, 0, 0, 0, 0, 0, 10, 1]"
      ]
     },
     "execution_count": 143,
     "metadata": {},
     "output_type": "execute_result"
    }
   ],
   "source": [
    "#Example index\n",
    "17000000001001\n",
    "#Example_hand\n",
    "[7,0,0,0,0,0,0,0,0,10,1]"
   ]
  },
  {
   "cell_type": "code",
   "execution_count": 144,
   "metadata": {},
   "outputs": [],
   "source": [
    "def cardsToIndex(player_hand, dealer_card, draw = None):\n",
    "    index_scaling = [10**11, 10**10, 10**9, 10**8, 10**7, 10**6, 10**5, 10**4, 10**2, 10**0]\n",
    "    index = 10000000000000 + dealer_card*10**12\n",
    "    if draw != None:\n",
    "        player_hand[10 - draw] += 1\n",
    "    for card in range(10):\n",
    "        index += index_scaling[card] * player_hand[card]\n",
    "    return index"
   ]
  },
  {
   "cell_type": "code",
   "execution_count": 145,
   "metadata": {},
   "outputs": [],
   "source": [
    "def indexToCards(index):#TODO\n",
    "    index = list(str(index)[1:])\n",
    "    dealer_hand = [0, 0, 0, 0, 0, 0, 0, 0, 0, 0]\n",
    "    dealer_hand[9 - int(index[0])] += 1\n",
    "    index = index[1:]\n",
    "    return [int(x) for x in index[0:-4] + [index[-4] + index[-3]] + [index[-2] + index[-1]]], dealer_hand"
   ]
  },
  {
   "cell_type": "code",
   "execution_count": 146,
   "metadata": {},
   "outputs": [],
   "source": [
    "def score(position):\n",
    "    score = position.player_hand[-1] * 11\n",
    "    high_aces = position.player_hand[-1]\n",
    "    for cardIndex in range(9):\n",
    "        score += (10 - cardIndex) * position.player_hand[cardIndex]\n",
    "    #Determine whether to use aces as 1 or 11\n",
    "    while score > 21 and high_aces > 0:\n",
    "        if high_aces > 0:\n",
    "            score -= 10\n",
    "            high_aces -= 1\n",
    "    return score "
   ]
  },
  {
   "cell_type": "code",
   "execution_count": 147,
   "metadata": {},
   "outputs": [],
   "source": [
    "class Position:\n",
    "    def __init__(self, index = None, cards = None, dealer_card = None, draw = None, decks = 1):\n",
    "        if index != None:\n",
    "            self.index = index\n",
    "            self.player_hand, self.dealer_hand = indexToCards(self.index)\n",
    "        if index == None:\n",
    "            self.player_hand = cards\n",
    "            self.dealer_hand = [0, 0, 0, 0, 0, 0, 0, 0, 0, 0]\n",
    "            self.dealer_hand[10 - dealer_card] += 1\n",
    "            self.index = cardsToIndex(self.player_hand, dealer_card, draw)\n",
    "\n",
    "        self.score = score(self)\n",
    "        self.bust = True if self.score > 21 else False\n",
    "        self.decks = decks\n",
    "\n",
    "        self.cards_in_play = [x + y for x, y in zip(self.player_hand, self.dealer_hand)]\n",
    "\n",
    "        self.valid = True if all(x < 4*self.decks + 1  for x in self.cards_in_play[1:]) and self.cards_in_play[0] < 16*self.decks + 1 else False"
   ]
  },
  {
   "cell_type": "code",
   "execution_count": 152,
   "metadata": {},
   "outputs": [],
   "source": [
    "def getPositions(decks = 1):\n",
    "    Next = {10000000000000 : Position(index = 10000000000000, dealer_card = 1)}\n",
    "    Master = {}\n",
    "    runs = 0\n",
    "    while len(Next) != 0:\n",
    "        Current = Next\n",
    "        Next = {}\n",
    "        for position in Current.values():\n",
    "            for drawn in range(1, 11):\n",
    "                gate = True\n",
    "                for dealer_card in range(1, 11):\n",
    "                    temp = position.player_hand.copy()\n",
    "                    current_position = Position(cards = temp, draw = drawn, dealer_card = dealer_card, decks = decks)\n",
    "                    if not current_position.bust and current_position.valid:\n",
    "                        if gate:\n",
    "                            Next[current_position.index] = current_position\n",
    "                            gate = False\n",
    "                        if runs > 0:\n",
    "                            Master[current_position.index] = current_position\n",
    "        runs += 1\n",
    "    return Master"
   ]
  },
  {
   "cell_type": "code",
   "execution_count": 155,
   "metadata": {},
   "outputs": [
    {
     "data": {
      "text/plain": [
       "27851"
      ]
     },
     "execution_count": 155,
     "metadata": {},
     "output_type": "execute_result"
    }
   ],
   "source": [
    "len(getPositions(decks = 2))"
   ]
  },
  {
   "cell_type": "markdown",
   "metadata": {},
   "source": [
    "#### mc"
   ]
  },
  {
   "cell_type": "markdown",
   "metadata": {},
   "source": [
    "aa_milne_arr = ['pooh', 'rabbit', 'piglet', 'Christopher']\n",
    "\n",
    "np.random.choice(aa_milne_arr, 5, p=[0.5, 0.1, 0.1, 0.3])\n",
    "array(['pooh', 'pooh', 'pooh', 'Christopher', 'piglet'], # random\n",
    "      dtype='<U11')"
   ]
  },
  {
   "cell_type": "markdown",
   "metadata": {},
   "source": [
    "# interesting\n",
    "Yo umay be able to start simulating games for stick probs but just do all dealer possibilities, then you don't need to od te win check each time"
   ]
  },
  {
   "cell_type": "code",
   "execution_count": 173,
   "metadata": {},
   "outputs": [
    {
     "data": {
      "text/plain": [
       "9"
      ]
     },
     "execution_count": 173,
     "metadata": {},
     "output_type": "execute_result"
    }
   ],
   "source": [
    "import numpy as np\n",
    "np.random.choice(range(10), p = np.array(range(10))/sum(range(10)))"
   ]
  },
  {
   "cell_type": "code",
   "execution_count": null,
   "metadata": {},
   "outputs": [],
   "source": [
    "def simulateGames(position, number_games = 1000):\n",
    "    wins, losses, ties = 0, 0, 0\n",
    "    dealer_card = rn.randint(1,10, number_games)\n",
    "    player_score = position.score\n",
    "\n",
    "    draw_weights = np.array([x - y for x, y in zip([card*position.decks for card in [16, 4, 4, 4, 4, 4, 4, 4, 4, 4]], position.cards_in_play)])\n",
    "\n",
    "\n",
    "\n",
    "    #Get 1\n",
    "\n",
    "    while number_games > 0:\n",
    "        temp_weights = draw_weights.copy()\n",
    "        \n",
    "    #get scpre\n",
    "    #if lt 16 go again\n",
    "        while dealer_score < 17:\n",
    "            dealer_hand = [dealer_card]\n",
    "            dealer_hand.append(np.random.choice(range(1, 10), 5, p=temp_weights/sum(temp_weights)))\n",
    "            temp_weights[10 - card] -= 1\n",
    "            dealer_score = score(dealer_hand)\n",
    "\n",
    "\n",
    "\n",
    "#get winner\n",
    "\n",
    "\n",
    "#fix score thing\n",
    "#deal with consequences of that shit\n",
    "#finish mc \n",
    "\n",
    "\n",
    "        number_games -= 1 "
   ]
  },
  {
   "cell_type": "code",
   "execution_count": 156,
   "metadata": {},
   "outputs": [],
   "source": [
    "import random as rn"
   ]
  },
  {
   "cell_type": "code",
   "execution_count": 165,
   "metadata": {},
   "outputs": [
    {
     "data": {
      "text/plain": [
       "6"
      ]
     },
     "execution_count": 165,
     "metadata": {},
     "output_type": "execute_result"
    }
   ],
   "source": []
  },
  {
   "cell_type": "code",
   "execution_count": 169,
   "metadata": {},
   "outputs": [],
   "source": [
    "for i in range(10000000):\n",
    "    rn.randint(1,10)"
   ]
  },
  {
   "cell_type": "markdown",
   "metadata": {},
   "source": [
    "issue:\n",
    "I want to pass dealer hand plus a card and get score\n",
    "I cant because score takes a position\n",
    "I shouldchang scor to take hadn\n",
    "now I need to pass a full hand many times\n",
    "\n",
    "simulate 10 possible deepar draws\n",
    "then file them\n",
    "then run through the randint list. ez\n",
    "Oly check scores once"
   ]
  }
 ],
 "metadata": {
  "kernelspec": {
   "display_name": "Python 3",
   "language": "python",
   "name": "python3"
  },
  "language_info": {
   "codemirror_mode": {
    "name": "ipython",
    "version": 3
   },
   "file_extension": ".py",
   "mimetype": "text/x-python",
   "name": "python",
   "nbconvert_exporter": "python",
   "pygments_lexer": "ipython3",
   "version": "3.12.2"
  }
 },
 "nbformat": 4,
 "nbformat_minor": 2
}
